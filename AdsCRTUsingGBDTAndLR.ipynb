{
 "cells": [
  {
   "cell_type": "code",
   "execution_count": 1,
   "id": "9ed2a1f8",
   "metadata": {},
   "outputs": [],
   "source": [
    "import numpy as np\n",
    "import pandas as pd\n",
    "from collections import defaultdict\n",
    "from matplotlib import pyplot as plt\n",
    "from tqdm import tqdm\n",
    "\n",
    "from sklearn.model_selection import train_test_split\n",
    "from sklearn.feature_extraction.text import CountVectorizer\n",
    "from sklearn.preprocessing import OneHotEncoder\n",
    "from sklearn.ensemble import GradientBoostingClassifier\n",
    "from sklearn.linear_model import LogisticRegression\n",
    "from sklearn.metrics import roc_auc_score, classification_report"
   ]
  },
  {
   "cell_type": "markdown",
   "id": "b24a582e",
   "metadata": {},
   "source": [
    "# Study the data"
   ]
  },
  {
   "cell_type": "code",
   "execution_count": 2,
   "id": "52f27b7e",
   "metadata": {},
   "outputs": [
    {
     "data": {
      "text/html": [
       "<div>\n",
       "<style scoped>\n",
       "    .dataframe tbody tr th:only-of-type {\n",
       "        vertical-align: middle;\n",
       "    }\n",
       "\n",
       "    .dataframe tbody tr th {\n",
       "        vertical-align: top;\n",
       "    }\n",
       "\n",
       "    .dataframe thead th {\n",
       "        text-align: right;\n",
       "    }\n",
       "</style>\n",
       "<table border=\"1\" class=\"dataframe\">\n",
       "  <thead>\n",
       "    <tr style=\"text-align: right;\">\n",
       "      <th></th>\n",
       "      <th>item_id</th>\n",
       "      <th>item_category_list</th>\n",
       "      <th>item_property_list</th>\n",
       "      <th>item_brand_id</th>\n",
       "      <th>item_city_id</th>\n",
       "      <th>item_price_level</th>\n",
       "      <th>item_sales_level</th>\n",
       "      <th>item_collected_level</th>\n",
       "      <th>item_pv_level</th>\n",
       "      <th>user_id</th>\n",
       "      <th>...</th>\n",
       "      <th>predict_category_property</th>\n",
       "      <th>shop_id</th>\n",
       "      <th>shop_review_num_level</th>\n",
       "      <th>shop_review_positive_rate</th>\n",
       "      <th>shop_star_level</th>\n",
       "      <th>shop_score_service</th>\n",
       "      <th>shop_score_delivery</th>\n",
       "      <th>shop_score_description</th>\n",
       "      <th>is_click</th>\n",
       "      <th>date</th>\n",
       "    </tr>\n",
       "  </thead>\n",
       "  <tbody>\n",
       "    <tr>\n",
       "      <th>0</th>\n",
       "      <td>2744506471184009586</td>\n",
       "      <td>7908382889764677758;7258015885215914736</td>\n",
       "      <td>5131280576272319091;2636395404473730413;751580...</td>\n",
       "      <td>7838285046767229711</td>\n",
       "      <td>5918626470536001929</td>\n",
       "      <td>4</td>\n",
       "      <td>11</td>\n",
       "      <td>10</td>\n",
       "      <td>17</td>\n",
       "      <td>545400486120000430</td>\n",
       "      <td>...</td>\n",
       "      <td>7258015885215914736:9148482949976129397;509660...</td>\n",
       "      <td>7298587034305908007</td>\n",
       "      <td>9</td>\n",
       "      <td>0.979905</td>\n",
       "      <td>5007</td>\n",
       "      <td>0.965576</td>\n",
       "      <td>0.970909</td>\n",
       "      <td>0.959273</td>\n",
       "      <td>0</td>\n",
       "      <td>2018-09-18</td>\n",
       "    </tr>\n",
       "    <tr>\n",
       "      <th>1</th>\n",
       "      <td>9148952645395028291</td>\n",
       "      <td>7908382889764677758;5755694407684602296</td>\n",
       "      <td>5131280576272319091;6434796455031995313;914848...</td>\n",
       "      <td>4609398715869550725</td>\n",
       "      <td>7322157373578955368</td>\n",
       "      <td>7</td>\n",
       "      <td>11</td>\n",
       "      <td>12</td>\n",
       "      <td>18</td>\n",
       "      <td>2288811001379435459</td>\n",
       "      <td>...</td>\n",
       "      <td>5755694407684602296:1725845221699571933,403435...</td>\n",
       "      <td>4629590182417672844</td>\n",
       "      <td>18</td>\n",
       "      <td>0.991784</td>\n",
       "      <td>5015</td>\n",
       "      <td>0.970960</td>\n",
       "      <td>0.969867</td>\n",
       "      <td>0.969540</td>\n",
       "      <td>0</td>\n",
       "      <td>2018-09-18</td>\n",
       "    </tr>\n",
       "    <tr>\n",
       "      <th>2</th>\n",
       "      <td>4612236884975741646</td>\n",
       "      <td>7908382889764677758;7258015885215914736</td>\n",
       "      <td>5131280576272319091;2636395404473730413;734498...</td>\n",
       "      <td>6793286343174833903</td>\n",
       "      <td>196257267849351217</td>\n",
       "      <td>5</td>\n",
       "      <td>14</td>\n",
       "      <td>14</td>\n",
       "      <td>19</td>\n",
       "      <td>4922845833114612534</td>\n",
       "      <td>...</td>\n",
       "      <td>7258015885215914736:9148482949976129397;509660...</td>\n",
       "      <td>2025576994711098052</td>\n",
       "      <td>17</td>\n",
       "      <td>1.000000</td>\n",
       "      <td>5014</td>\n",
       "      <td>0.978163</td>\n",
       "      <td>0.977253</td>\n",
       "      <td>0.987147</td>\n",
       "      <td>1</td>\n",
       "      <td>2018-09-18</td>\n",
       "    </tr>\n",
       "    <tr>\n",
       "      <th>3</th>\n",
       "      <td>8238195786294017989</td>\n",
       "      <td>7908382889764677758;8277336076276184272</td>\n",
       "      <td>2636395404473730413;1243768796732904674;101341...</td>\n",
       "      <td>7066302540842412840</td>\n",
       "      <td>3948283326616421003</td>\n",
       "      <td>7</td>\n",
       "      <td>7</td>\n",
       "      <td>10</td>\n",
       "      <td>16</td>\n",
       "      <td>4721760060928545832</td>\n",
       "      <td>...</td>\n",
       "      <td>8277336076276184272:-1;7908382889764677758:263...</td>\n",
       "      <td>6597981382309269962</td>\n",
       "      <td>21</td>\n",
       "      <td>0.997040</td>\n",
       "      <td>5018</td>\n",
       "      <td>0.979661</td>\n",
       "      <td>0.979589</td>\n",
       "      <td>0.975442</td>\n",
       "      <td>0</td>\n",
       "      <td>2018-09-18</td>\n",
       "    </tr>\n",
       "    <tr>\n",
       "      <th>4</th>\n",
       "      <td>5628071872190948042</td>\n",
       "      <td>7908382889764677758;8277336076276184272</td>\n",
       "      <td>5131280576272319091;2636395404473730413;462193...</td>\n",
       "      <td>223136115558074817</td>\n",
       "      <td>7534238860363577544</td>\n",
       "      <td>8</td>\n",
       "      <td>12</td>\n",
       "      <td>15</td>\n",
       "      <td>17</td>\n",
       "      <td>5077257571429508003</td>\n",
       "      <td>...</td>\n",
       "      <td>836752724084922533:3605305489057951035,7557400...</td>\n",
       "      <td>323195289690023120</td>\n",
       "      <td>16</td>\n",
       "      <td>1.000000</td>\n",
       "      <td>5013</td>\n",
       "      <td>0.974115</td>\n",
       "      <td>0.974751</td>\n",
       "      <td>0.981497</td>\n",
       "      <td>0</td>\n",
       "      <td>2018-09-18</td>\n",
       "    </tr>\n",
       "  </tbody>\n",
       "</table>\n",
       "<p>5 rows × 27 columns</p>\n",
       "</div>"
      ],
      "text/plain": [
       "               item_id                       item_category_list  \\\n",
       "0  2744506471184009586  7908382889764677758;7258015885215914736   \n",
       "1  9148952645395028291  7908382889764677758;5755694407684602296   \n",
       "2  4612236884975741646  7908382889764677758;7258015885215914736   \n",
       "3  8238195786294017989  7908382889764677758;8277336076276184272   \n",
       "4  5628071872190948042  7908382889764677758;8277336076276184272   \n",
       "\n",
       "                                  item_property_list        item_brand_id  \\\n",
       "0  5131280576272319091;2636395404473730413;751580...  7838285046767229711   \n",
       "1  5131280576272319091;6434796455031995313;914848...  4609398715869550725   \n",
       "2  5131280576272319091;2636395404473730413;734498...  6793286343174833903   \n",
       "3  2636395404473730413;1243768796732904674;101341...  7066302540842412840   \n",
       "4  5131280576272319091;2636395404473730413;462193...   223136115558074817   \n",
       "\n",
       "          item_city_id  item_price_level  item_sales_level  \\\n",
       "0  5918626470536001929                 4                11   \n",
       "1  7322157373578955368                 7                11   \n",
       "2   196257267849351217                 5                14   \n",
       "3  3948283326616421003                 7                 7   \n",
       "4  7534238860363577544                 8                12   \n",
       "\n",
       "   item_collected_level  item_pv_level              user_id  ...  \\\n",
       "0                    10             17   545400486120000430  ...   \n",
       "1                    12             18  2288811001379435459  ...   \n",
       "2                    14             19  4922845833114612534  ...   \n",
       "3                    10             16  4721760060928545832  ...   \n",
       "4                    15             17  5077257571429508003  ...   \n",
       "\n",
       "                           predict_category_property              shop_id  \\\n",
       "0  7258015885215914736:9148482949976129397;509660...  7298587034305908007   \n",
       "1  5755694407684602296:1725845221699571933,403435...  4629590182417672844   \n",
       "2  7258015885215914736:9148482949976129397;509660...  2025576994711098052   \n",
       "3  8277336076276184272:-1;7908382889764677758:263...  6597981382309269962   \n",
       "4  836752724084922533:3605305489057951035,7557400...   323195289690023120   \n",
       "\n",
       "   shop_review_num_level  shop_review_positive_rate  shop_star_level  \\\n",
       "0                      9                   0.979905             5007   \n",
       "1                     18                   0.991784             5015   \n",
       "2                     17                   1.000000             5014   \n",
       "3                     21                   0.997040             5018   \n",
       "4                     16                   1.000000             5013   \n",
       "\n",
       "   shop_score_service  shop_score_delivery shop_score_description  is_click  \\\n",
       "0            0.965576             0.970909               0.959273         0   \n",
       "1            0.970960             0.969867               0.969540         0   \n",
       "2            0.978163             0.977253               0.987147         1   \n",
       "3            0.979661             0.979589               0.975442         0   \n",
       "4            0.974115             0.974751               0.981497         0   \n",
       "\n",
       "         date  \n",
       "0  2018-09-18  \n",
       "1  2018-09-18  \n",
       "2  2018-09-18  \n",
       "3  2018-09-18  \n",
       "4  2018-09-18  \n",
       "\n",
       "[5 rows x 27 columns]"
      ]
     },
     "execution_count": 2,
     "metadata": {},
     "output_type": "execute_result"
    }
   ],
   "source": [
    "data = pd.read_csv('data.csv', sep='\\t', engine='python')\n",
    "data.head()"
   ]
  },
  {
   "cell_type": "code",
   "execution_count": 3,
   "id": "ac3e52f2",
   "metadata": {},
   "outputs": [
    {
     "data": {
      "text/plain": [
       "item_id                        int64\n",
       "item_category_list            object\n",
       "item_property_list            object\n",
       "item_brand_id                  int64\n",
       "item_city_id                   int64\n",
       "item_price_level               int64\n",
       "item_sales_level               int64\n",
       "item_collected_level           int64\n",
       "item_pv_level                  int64\n",
       "user_id                        int64\n",
       "user_gender_id                 int64\n",
       "user_age_level                 int64\n",
       "user_occupation_id             int64\n",
       "user_star_level                int64\n",
       "context_id                     int64\n",
       "context_timestamp              int64\n",
       "context_page_id                int64\n",
       "predict_category_property     object\n",
       "shop_id                        int64\n",
       "shop_review_num_level          int64\n",
       "shop_review_positive_rate    float64\n",
       "shop_star_level                int64\n",
       "shop_score_service           float64\n",
       "shop_score_delivery          float64\n",
       "shop_score_description       float64\n",
       "is_click                       int64\n",
       "date                          object\n",
       "dtype: object"
      ]
     },
     "execution_count": 3,
     "metadata": {},
     "output_type": "execute_result"
    }
   ],
   "source": [
    "data.dtypes"
   ]
  },
  {
   "cell_type": "code",
   "execution_count": 16,
   "id": "993acaa8",
   "metadata": {},
   "outputs": [
    {
     "data": {
      "text/plain": [
       "(55933, 27)"
      ]
     },
     "execution_count": 16,
     "metadata": {},
     "output_type": "execute_result"
    }
   ],
   "source": [
    "data.shape"
   ]
  },
  {
   "cell_type": "code",
   "execution_count": 15,
   "id": "9dddd6f4",
   "metadata": {},
   "outputs": [
    {
     "data": {
      "image/png": "[encoded data removed]",
      "text/plain": [
       "<Figure size 432x288 with 1 Axes>"
      ]
     },
     "metadata": {
      "needs_background": "light"
     },
     "output_type": "display_data"
    }
   ],
   "source": [
    "data['item_price_level'].hist().plot(kind='bar')\n",
    "plt.show()"
   ]
  },
  {
   "cell_type": "code",
   "execution_count": 19,
   "id": "34ea0157",
   "metadata": {},
   "outputs": [
    {
     "data": {
      "image/png": "[encoded data removed]",
      "text/plain": [
       "<Figure size 432x288 with 1 Axes>"
      ]
     },
     "metadata": {
      "needs_background": "light"
     },
     "output_type": "display_data"
    }
   ],
   "source": [
    "data['is_click'].value_counts().plot(kind='bar')\n",
    "plt.show()"
   ]
  },
  {
   "cell_type": "code",
   "execution_count": 20,
   "id": "391b2f5b",
   "metadata": {},
   "outputs": [
    {
     "data": {
      "text/plain": [
       "5702"
      ]
     },
     "execution_count": 20,
     "metadata": {},
     "output_type": "execute_result"
    }
   ],
   "source": [
    "data['item_id'].nunique()"
   ]
  },
  {
   "cell_type": "code",
   "execution_count": 21,
   "id": "8de1ad1b",
   "metadata": {},
   "outputs": [
    {
     "data": {
      "text/plain": [
       "47180"
      ]
     },
     "execution_count": 21,
     "metadata": {},
     "output_type": "execute_result"
    }
   ],
   "source": [
    "data['user_id'].nunique()"
   ]
  },
  {
   "cell_type": "code",
   "execution_count": 28,
   "id": "67e62a52",
   "metadata": {},
   "outputs": [
    {
     "data": {
      "text/html": [
       "<div>\n",
       "<style scoped>\n",
       "    .dataframe tbody tr th:only-of-type {\n",
       "        vertical-align: middle;\n",
       "    }\n",
       "\n",
       "    .dataframe tbody tr th {\n",
       "        vertical-align: top;\n",
       "    }\n",
       "\n",
       "    .dataframe thead th {\n",
       "        text-align: right;\n",
       "    }\n",
       "</style>\n",
       "<table border=\"1\" class=\"dataframe\">\n",
       "  <thead>\n",
       "    <tr style=\"text-align: right;\">\n",
       "      <th></th>\n",
       "      <th>date</th>\n",
       "      <th>is_click</th>\n",
       "    </tr>\n",
       "  </thead>\n",
       "  <tbody>\n",
       "    <tr>\n",
       "      <th>0</th>\n",
       "      <td>2018-09-18</td>\n",
       "      <td>0.168404</td>\n",
       "    </tr>\n",
       "    <tr>\n",
       "      <th>1</th>\n",
       "      <td>2018-09-19</td>\n",
       "      <td>0.167567</td>\n",
       "    </tr>\n",
       "    <tr>\n",
       "      <th>2</th>\n",
       "      <td>2018-09-20</td>\n",
       "      <td>0.167045</td>\n",
       "    </tr>\n",
       "    <tr>\n",
       "      <th>3</th>\n",
       "      <td>2018-09-21</td>\n",
       "      <td>0.163729</td>\n",
       "    </tr>\n",
       "    <tr>\n",
       "      <th>4</th>\n",
       "      <td>2018-09-22</td>\n",
       "      <td>0.162794</td>\n",
       "    </tr>\n",
       "    <tr>\n",
       "      <th>5</th>\n",
       "      <td>2018-09-23</td>\n",
       "      <td>0.148233</td>\n",
       "    </tr>\n",
       "    <tr>\n",
       "      <th>6</th>\n",
       "      <td>2018-09-24</td>\n",
       "      <td>0.146213</td>\n",
       "    </tr>\n",
       "  </tbody>\n",
       "</table>\n",
       "</div>"
      ],
      "text/plain": [
       "         date  is_click\n",
       "0  2018-09-18  0.168404\n",
       "1  2018-09-19  0.167567\n",
       "2  2018-09-20  0.167045\n",
       "3  2018-09-21  0.163729\n",
       "4  2018-09-22  0.162794\n",
       "5  2018-09-23  0.148233\n",
       "6  2018-09-24  0.146213"
      ]
     },
     "execution_count": 28,
     "metadata": {},
     "output_type": "execute_result"
    }
   ],
   "source": [
    "data.groupby('date')['is_click'].mean().reset_index()"
   ]
  },
  {
   "cell_type": "markdown",
   "id": "07e1b27c",
   "metadata": {},
   "source": [
    "# Build features"
   ]
  },
  {
   "cell_type": "code",
   "execution_count": 69,
   "id": "7b8887a9",
   "metadata": {},
   "outputs": [],
   "source": [
    "CATEGORICAL_FEATURES = ['item_city_id', 'user_gender_id', 'user_occupation_id']\n",
    "CONTINUOUS_FEATURES = ['item_price_level', 'item_sales_level', 'item_collected_level',\n",
    "                       'item_pv_level', 'user_age_level', 'user_star_level',\n",
    "                       'shop_review_num_level', 'shop_review_positive_rate',\n",
    "                       'shop_star_level', 'shop_score_service', 'shop_score_delivery',\n",
    "                       'shop_score_description']\n",
    "VECTOR_FEATURES = ['item_category_list']"
   ]
  },
  {
   "cell_type": "code",
   "execution_count": 118,
   "id": "6cb077f0",
   "metadata": {},
   "outputs": [
    {
     "name": "stdout",
     "output_type": "stream",
     "text": [
      "(47535, 27) (47535,)\n"
     ]
    }
   ],
   "source": [
    "# x_train, x_test, y_train, y_test = train_test_split(x, y, train_size=0.8, stratify = y, random_state=2021) \n",
    "data_train = data[data['date'] != '2018-09-21']\n",
    "data_test = data[data['date'] == '2018-09-21']\n",
    "y_train = data[data['date'] != '2018-09-21']['is_click']\n",
    "y_test = data[data['date'] == '2018-09-21']['is_click']\n",
    "print(data_train.shape, y_train.shape)"
   ]
  },
  {
   "cell_type": "markdown",
   "id": "99412690",
   "metadata": {},
   "source": [
    "continuous"
   ]
  },
  {
   "cell_type": "code",
   "execution_count": 119,
   "id": "df48d74b",
   "metadata": {},
   "outputs": [],
   "source": [
    "# x_train_continuous = (data_train[CONTINUOUS_FEATURES].values - data_train[CONTINUOUS_FEATURES].values.mean()) / data_train[CONTINUOUS_FEATURES].values.std()\n",
    "# x_test_continuous = (data_test[CONTINUOUS_FEATURES].values - data_test[CONTINUOUS_FEATURES].values.mean()) / data_test[CONTINUOUS_FEATURES].values.std()\n",
    "\n",
    "x_train_continuous = data_train[CONTINUOUS_FEATURES].values\n",
    "x_test_continuous = data_test[CONTINUOUS_FEATURES].values"
   ]
  },
  {
   "cell_type": "markdown",
   "id": "efb6048c",
   "metadata": {},
   "source": [
    "categorical"
   ]
  },
  {
   "cell_type": "code",
   "execution_count": 120,
   "id": "a7ae87dd",
   "metadata": {},
   "outputs": [
    {
     "data": {
      "text/plain": [
       "array([[0., 0., 0., ..., 0., 0., 0.],\n",
       "       [0., 0., 0., ..., 0., 0., 1.],\n",
       "       [0., 1., 0., ..., 0., 0., 1.],\n",
       "       ...,\n",
       "       [0., 0., 0., ..., 0., 0., 1.],\n",
       "       [0., 0., 0., ..., 0., 0., 1.],\n",
       "       [0., 0., 0., ..., 0., 0., 1.]])"
      ]
     },
     "execution_count": 120,
     "metadata": {},
     "output_type": "execute_result"
    }
   ],
   "source": [
    "one_hot = OneHotEncoder()\n",
    "one_hot.fit(pd.concat([data_train[CATEGORICAL_FEATURES], data_test[CATEGORICAL_FEATURES]], axis=0).values)\n",
    "x_train_categorical = one_hot.transform(data_train[CATEGORICAL_FEATURES].values).toarray()\n",
    "x_test_categorical = one_hot.transform(data_test[CATEGORICAL_FEATURES].values).toarray()\n",
    "x_train_categorical"
   ]
  },
  {
   "cell_type": "markdown",
   "id": "7e431868",
   "metadata": {},
   "source": [
    "vector"
   ]
  },
  {
   "cell_type": "code",
   "execution_count": 121,
   "id": "2f78bbb0",
   "metadata": {},
   "outputs": [],
   "source": [
    "x_train_vector, x_test_vector = None, None\n",
    "\n",
    "for feature in VECTOR_FEATURES: \n",
    "    vectorizer = CountVectorizer()\n",
    "    vectorizer.fit(pd.concat([data_train[feature], data_test[feature]], axis=0).values)\n",
    "    if x_train_vector is None: \n",
    "        x_train_vector = vectorizer.transform(data_train[feature].values).toarray()\n",
    "        x_test_vector = vectorizer.transform(data_test[feature].values).toarray()\n",
    "    else: \n",
    "        x_train_vector = np.hstack([x_train_vector, vectorizer.transform(data_train[feature].values).toarray()])\n",
    "        x_test_vector = np.hstack([x_test_vector, vectorizer.transform(data_test[feature].values).toarray()])"
   ]
  },
  {
   "cell_type": "markdown",
   "id": "f3061815",
   "metadata": {},
   "source": [
    "# GBDT for continuous features"
   ]
  },
  {
   "cell_type": "code",
   "execution_count": 122,
   "id": "623a4cfa",
   "metadata": {},
   "outputs": [
    {
     "name": "stdout",
     "output_type": "stream",
     "text": [
      "      Iter       Train Loss   Remaining Time \n",
      "         1           0.8741            2.84s\n",
      "         2           0.8678            2.75s\n",
      "         3           0.8628            2.67s\n",
      "         4           0.8585            2.61s\n",
      "         5           0.8550            2.56s\n",
      "         6           0.8518            2.49s\n",
      "         7           0.8493            2.44s\n",
      "         8           0.8471            2.39s\n",
      "         9           0.8452            2.33s\n",
      "        10           0.8431            2.27s\n",
      "        20           0.8310            1.73s\n",
      "        30           0.8238            1.16s\n",
      "        40           0.8188            0.58s\n",
      "        50           0.8147            0.00s\n"
     ]
    },
    {
     "data": {
      "text/plain": [
       "GradientBoostingClassifier(max_depth=4, n_estimators=50, random_state=2021,\n",
       "                           verbose=1)"
      ]
     },
     "execution_count": 122,
     "metadata": {},
     "output_type": "execute_result"
    }
   ],
   "source": [
    "gbm = GradientBoostingClassifier(n_estimators=50, max_depth=4, random_state=2021, verbose=1)\n",
    "gbm.fit(x_train_continuous, y_train)"
   ]
  },
  {
   "cell_type": "code",
   "execution_count": 123,
   "id": "bfdd492c",
   "metadata": {},
   "outputs": [],
   "source": [
    "x_train_gmb_raw = np.squeeze(gbm.apply(x_train_continuous))\n",
    "x_test_gmb_raw = np.squeeze(gbm.apply(x_test_continuous))"
   ]
  },
  {
   "cell_type": "code",
   "execution_count": 124,
   "id": "76fb9083",
   "metadata": {},
   "outputs": [],
   "source": [
    "one_hot = OneHotEncoder()\n",
    "one_hot.fit(x_train_gmb_raw)\n",
    "x_train_gmb = one_hot.transform(x_train_gmb_raw).toarray()\n",
    "x_test_gmb = one_hot.transform(x_test_gmb_raw).toarray()"
   ]
  },
  {
   "cell_type": "markdown",
   "id": "4fcd45d5",
   "metadata": {},
   "source": [
    "# LR for all features"
   ]
  },
  {
   "cell_type": "code",
   "execution_count": 125,
   "id": "54158d9b",
   "metadata": {},
   "outputs": [],
   "source": [
    "x_train_all = np.hstack([x_train_gmb, x_train_categorical, x_train_vector])\n",
    "x_test_all = np.hstack([x_test_gmb, x_test_categorical, x_test_vector])"
   ]
  },
  {
   "cell_type": "code",
   "execution_count": 126,
   "id": "98da4911",
   "metadata": {},
   "outputs": [
    {
     "data": {
      "text/plain": [
       "LogisticRegression(C=100, max_iter=500, n_jobs=8)"
      ]
     },
     "execution_count": 126,
     "metadata": {},
     "output_type": "execute_result"
    }
   ],
   "source": [
    "lr = LogisticRegression(C=100, max_iter=500, n_jobs=8)\n",
    "lr.fit(x_train_all, y_train)"
   ]
  },
  {
   "cell_type": "code",
   "execution_count": 127,
   "id": "04acaf08",
   "metadata": {},
   "outputs": [
    {
     "data": {
      "text/plain": [
       "0.6711082288066483"
      ]
     },
     "execution_count": 127,
     "metadata": {},
     "output_type": "execute_result"
    }
   ],
   "source": [
    "prob = lr.predict_proba(x_test_all)\n",
    "roc_auc_score(y_test, prob[:, 1])"
   ]
  },
  {
   "cell_type": "code",
   "execution_count": null,
   "id": "7c91de91",
   "metadata": {},
   "outputs": [],
   "source": []
  }
 ],
 "metadata": {
  "kernelspec": {
   "display_name": "Python 3",
   "language": "python",
   "name": "python3"
  },
  "language_info": {
   "codemirror_mode": {
    "name": "ipython",
    "version": 3
   },
   "file_extension": ".py",
   "mimetype": "text/x-python",
   "name": "python",
   "nbconvert_exporter": "python",
   "pygments_lexer": "ipython3",
   "version": "3.8.8"
  }
 },
 "nbformat": 4,
 "nbformat_minor": 5
}
